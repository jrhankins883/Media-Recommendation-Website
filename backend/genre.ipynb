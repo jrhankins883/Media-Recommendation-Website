{
 "cells": [
  {
   "cell_type": "markdown",
   "metadata": {},
   "source": [
    "Importing libraries, loading environment variables from the .env file, accessing the API Key, and creating the Flask app"
   ]
  },
  {
   "cell_type": "code",
   "execution_count": null,
   "metadata": {},
   "outputs": [],
   "source": [
    "from flask import Flask\n",
    "from werkzeug.serving import run_simple\n",
    "import os\n",
    "from dotenv import load_dotenv\n",
    "import tmdbsimple as tmdb\n",
    "\n",
    "# Loading environment variables from the .env file\n",
    "load_dotenv()\n",
    "\n",
    "# Accessing the TMDb API key\n",
    "TMDB_API_KEY = os.getenv(\"TMDB_API_KEY\")\n",
    "print(TMDB_API_KEY)\n",
    "\n",
    "# Initializing the Flask app\n",
    "app = Flask(__name__) # This creates an instance of the Flask class and assigns it to a variable. It's like creating a blueprint for the app\n",
    "\n",
    "# Define's a route\n",
    "@app.route(\"/\") # This is a route decorator. It tells Flask which URL to connect to this function\n",
    "def home(): # This function runs when someone visits the specified route\n",
    "    print(\"Home route was accessed\")\n",
    "    return \"Hello, Flask!\"\n",
    "\n",
    "# Define's a dynamic route for genres\n",
    "@app.route(\"/genre/<genre_name>\")\n",
    "def show_genre(genre_name):\n",
    "    print(f\"Genre route was accessed with genre: {genre_name}\")\n",
    "    return f\"You chose the {genre_name.capitalize()} genre!\"\n",
    "\n",
    "# Run the app\n",
    "print(\"Starting Flask app...\")\n",
    "run_simple(\"localhost\", 5000, app)"
   ]
  },
  {
   "cell_type": "markdown",
   "metadata": {},
   "source": [
    "Fetching genre data from The Movie Database"
   ]
  },
  {
   "cell_type": "code",
   "execution_count": null,
   "metadata": {},
   "outputs": [],
   "source": []
  }
 ],
 "metadata": {
  "kernelspec": {
   "display_name": "venv",
   "language": "python",
   "name": "python3"
  },
  "language_info": {
   "codemirror_mode": {
    "name": "ipython",
    "version": 3
   },
   "file_extension": ".py",
   "mimetype": "text/x-python",
   "name": "python",
   "nbconvert_exporter": "python",
   "pygments_lexer": "ipython3",
   "version": "3.12.8"
  }
 },
 "nbformat": 4,
 "nbformat_minor": 2
}
