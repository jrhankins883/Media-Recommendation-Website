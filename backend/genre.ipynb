{
 "cells": [
  {
   "cell_type": "code",
   "execution_count": null,
   "metadata": {},
   "outputs": [],
   "source": [
    "from flask import Flask\n",
    "from werkzeug.serving import run_simple\n",
    "\n",
    "# Initializes the Flask app\n",
    "app = Flask(__name__) # This creates an instance of the Flask class and assigns it to a variable. It's like creating a blueprint for the app\n",
    "\n",
    "# Define's a route\n",
    "@app.route(\"/\") # This is a route director. It tells Flask which URL to connect to this function\n",
    "def home(): # This function runs when someone visits the specified route\n",
    "    return \"Hello, Flask!\"\n",
    "\n",
    "# Run the app\n",
    "run_simple(\"localhost\", 5000, app)"
   ]
  }
 ],
 "metadata": {
  "kernelspec": {
   "display_name": "venv",
   "language": "python",
   "name": "python3"
  },
  "language_info": {
   "codemirror_mode": {
    "name": "ipython",
    "version": 3
   },
   "file_extension": ".py",
   "mimetype": "text/x-python",
   "name": "python",
   "nbconvert_exporter": "python",
   "pygments_lexer": "ipython3",
   "version": "3.12.8"
  }
 },
 "nbformat": 4,
 "nbformat_minor": 2
}
