{
 "cells": [
  {
   "cell_type": "markdown",
   "metadata": {},
   "source": [
    "Importing libraries, loading environment variables from the .env file, and creating functions to return data."
   ]
  },
  {
   "cell_type": "code",
   "execution_count": 1,
   "metadata": {},
   "outputs": [],
   "source": [
    "from flask import Flask\n",
    "from werkzeug.serving import run_simple\n",
    "from dotenv import load_dotenv\n",
    "import os\n",
    "import tmdbsimple as tmdb\n",
    "import requests\n",
    "import random\n",
    "\n",
    "# Loading environment variables from the .env file\n",
    "load_dotenv()\n",
    "\n",
    "# Accessing the TMDb API key\n",
    "TMDB_API_KEY = os.getenv(\"TMDB_API_KEY\")\n",
    "\n",
    "# Initializing the Flask app\n",
    "app = Flask(__name__) # This creates an instance of the Flask class and assigns it to a variable. It's like creating a blueprint for the app\n",
    "\n",
    "# Fetches a list of movie genres from TMDb API and should return a list of genre dictionaries\n",
    "def fetch_genres():\n",
    "    url = \"https://api.themoviedb.org/3/genre/movie/list\"\n",
    "    params = {\"api_key\": TMDB_API_KEY}\n",
    "    try:\n",
    "        response = requests.get(url, params=params)\n",
    "        response.raise_for_status()\n",
    "        return response.json().get(\"genres\", [])\n",
    "    except requests.exceptions.RequestException as e:\n",
    "        print(f\"Error fetching genres: {e}\")\n",
    "        return []\n",
    "    \n",
    "def fetch_movies_by_genre(genre_id, api_key):\n",
    "    base_url = \"https://api.themoviedb.org/3/discover/movie\"\n",
    "    params = {\n",
    "        \"api_key\": api_key,\n",
    "        \"with_genres\": genre_id,\n",
    "        \"page\": random.randint(1, 10) # Randomly picks a page to vary results\n",
    "    }\n",
    "    \n",
    "    try:\n",
    "        response = requests.get(base_url, params=params)\n",
    "        response.raise_for_status() # Raises an error for bad HTTP status codes\n",
    "        data = response.json()\n",
    "        movies = data.get(\"results\", []) # Extract movies from the response\n",
    "        \n",
    "        return movies[:20]\n",
    "    \n",
    "    except requests.exceptions.RequestException as e:\n",
    "        print(f\"Error fetching movies for genre {genre_id}: {e}\")\n",
    "        return []"
   ]
  },
  {
   "cell_type": "markdown",
   "metadata": {},
   "source": [
    "Defining a home route and a dynamic route for the different genres"
   ]
  },
  {
   "cell_type": "code",
   "execution_count": 2,
   "metadata": {},
   "outputs": [],
   "source": [
    "# Define's a route\n",
    "@app.route(\"/\") # This is a route decorator. It tells Flask which URL to connect to this function\n",
    "def home(): # This function runs when someone visits the specified route\n",
    "    return \"Hello, Flask!\"\n",
    "\n",
    "# Define's a dynamic route for genres\n",
    "@app.route(\"/genres\")\n",
    "def genres():\n",
    "    genres = fetch_genres()\n",
    "    return \"<br>\".join([f\"{genre['id']}: {genre['name']}\" for genre in genres])"
   ]
  },
  {
   "cell_type": "markdown",
   "metadata": {},
   "source": [
    "Starting the Flask app..."
   ]
  },
  {
   "cell_type": "code",
   "execution_count": 3,
   "metadata": {},
   "outputs": [
    {
     "name": "stdout",
     "output_type": "stream",
     "text": [
      "Starting Flask app...\n",
      " * Serving Flask app '__main__'\n",
      " * Debug mode: on\n"
     ]
    },
    {
     "name": "stderr",
     "output_type": "stream",
     "text": [
      "WARNING: This is a development server. Do not use it in a production deployment. Use a production WSGI server instead.\n",
      " * Running on http://127.0.0.1:5000\n",
      "Press CTRL+C to quit\n",
      " * Restarting with stat\n"
     ]
    },
    {
     "ename": "SystemExit",
     "evalue": "1",
     "output_type": "error",
     "traceback": [
      "An exception has occurred, use %tb to see the full traceback.\n",
      "\u001b[1;31mSystemExit\u001b[0m\u001b[1;31m:\u001b[0m 1\n"
     ]
    },
    {
     "name": "stderr",
     "output_type": "stream",
     "text": [
      "c:\\Users\\Johnr\\Desktop\\My_Projects\\Media-Recommendation-Website\\backend\\venv\\Lib\\site-packages\\IPython\\core\\interactiveshell.py:3585: UserWarning: To exit: use 'exit', 'quit', or Ctrl-D.\n",
      "  warn(\"To exit: use 'exit', 'quit', or Ctrl-D.\", stacklevel=1)\n"
     ]
    }
   ],
   "source": [
    "# Main execution block\n",
    "if __name__ == \"__main__\":\n",
    "    print(\"Starting Flask app...\")\n",
    "    app.run(debug=True)\n",
    "    \n",
    "    # Example usage of fetch_movies_ny_genre function\n",
    "    genre_id = 28 # Action genre ID\n",
    "    movies = fetch_movies_by_genre(genre_id)\n",
    "    for movie in movies:\n",
    "        print(movie[\"title\"])"
   ]
  }
 ],
 "metadata": {
  "kernelspec": {
   "display_name": "venv",
   "language": "python",
   "name": "python3"
  },
  "language_info": {
   "codemirror_mode": {
    "name": "ipython",
    "version": 3
   },
   "file_extension": ".py",
   "mimetype": "text/x-python",
   "name": "python",
   "nbconvert_exporter": "python",
   "pygments_lexer": "ipython3",
   "version": "3.12.8"
  }
 },
 "nbformat": 4,
 "nbformat_minor": 2
}
